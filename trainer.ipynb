{
 "cells": [
  {
   "cell_type": "code",
   "execution_count": null,
   "metadata": {},
   "outputs": [],
   "source": [
    "import pandas as pd\n",
    "\n",
    "# Replace 'titanic.csv' with the actual path to your CSV file\n",
    "csv_file_path_train = 'C:/Users/munee/Desktop/Kaggle/Titanic/train.csv'\n",
    "csv_file_path_test = 'C:/Users/munee/Desktop/Kaggle/Titanic/test.csv'\n",
    "\n",
    "# Load the CSV data into a pandas DataFrame\n",
    "titanic_data_train = pd.read_csv(csv_file_path_train)\n",
    "titanic_data_test = pd.read_csv(csv_file_path_test)\n",
    "\n",
    "# Display the first few rows of the DataFrame to verify the data loading\n",
    "print(titanic_data_train.head())\n",
    "print(titanic_data_test.head())"
   ]
  },
  {
   "cell_type": "code",
   "execution_count": null,
   "metadata": {},
   "outputs": [],
   "source": [
    "from sklearn.model_selection import train_test_split\n",
    "from sklearn.preprocessing import StandardScaler\n",
    "from sklearn.linear_model import LogisticRegression\n",
    "from sklearn.metrics import accuracy_score\n",
    "\n",
    "features = ['Pclass', 'Age', 'Fare', 'Sex', 'SibSp', 'Parch', 'Embarked']\n",
    "X = titanic_data_train[features]\n",
    "y = titanic_data_train['Survived']\n",
    "z = titanic_data_test['PassengerId']\n",
    "X_pred =  titanic_data_test[features]\n",
    "\n",
    "# Handle missing values by imputing or removing them\n",
    "X['Age'].fillna(X['Age'].median(), inplace=True)\n",
    "X_pred['Age'].fillna(X_pred['Age'].median(), inplace=True)\n",
    "X_pred['Fare'].fillna(X_pred['Fare'].median(), inplace=True)\n",
    "\n",
    "# Convert categorical variables (Sex and Embarked) into numerical using one-hot encoding\n",
    "X = pd.get_dummies(X, columns=['Sex', 'Embarked'], drop_first=True)\n",
    "X_pred = pd.get_dummies(X_pred, columns=['Sex', 'Embarked'], drop_first=True)\n",
    "\n",
    "# Split the data into training and testing sets\n",
    "X_train, X_test, y_train, y_test = train_test_split(X, y, test_size=0.2, random_state=42)\n",
    "\n",
    "# Standardize features\n",
    "scaler = StandardScaler()\n",
    "X_train_scaled = scaler.fit_transform(X_train)\n",
    "X_test_scaled = scaler.transform(X_test)\n",
    "X_pred_scaled = scaler.transform(X_pred)\n",
    "\n"
   ]
  },
  {
   "cell_type": "code",
   "execution_count": null,
   "metadata": {},
   "outputs": [],
   "source": [
    "# Initialize and train the logistic regression model\n",
    "logreg_model = LogisticRegression()\n",
    "logreg_model.fit(X_train_scaled, y_train)\n",
    "\n",
    "# Make predictions on the test set\n",
    "y_pred = logreg_model.predict(X_test_scaled)\n",
    "\n",
    "# Calculate the accuracy of the model\n",
    "accuracy = accuracy_score(y_test, y_pred)\n",
    "print(f\"Accuracy: {accuracy:.2f}\")\n",
    "\n",
    "pred = logreg_model.predict(X_pred_scaled)\n",
    "\n",
    "predictions_df = pd.DataFrame({'PassengerID': z, 'Survived' : pred})\n",
    "predictions_df.to_csv('predictions.csv', index=False)"
   ]
  }
 ],
 "metadata": {
  "kernelspec": {
   "display_name": "Python 3",
   "language": "python",
   "name": "python3"
  },
  "language_info": {
   "codemirror_mode": {
    "name": "ipython",
    "version": 3
   },
   "file_extension": ".py",
   "mimetype": "text/x-python",
   "name": "python",
   "nbconvert_exporter": "python",
   "pygments_lexer": "ipython3",
   "version": "3.11.2"
  },
  "orig_nbformat": 4
 },
 "nbformat": 4,
 "nbformat_minor": 2
}
